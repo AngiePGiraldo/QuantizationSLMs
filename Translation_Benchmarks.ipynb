{
  "nbformat": 4,
  "nbformat_minor": 0,
  "metadata": {
    "colab": {
      "provenance": []
    },
    "kernelspec": {
      "name": "python3",
      "display_name": "Python 3"
    },
    "language_info": {
      "name": "python"
    }
  },
  "cells": [
    {
      "cell_type": "code",
      "execution_count": null,
      "metadata": {
        "colab": {
          "base_uri": "https://localhost:8080/"
        },
        "id": "WZD_qVSWXGH9",
        "outputId": "a00f0e1c-2c7b-4e39-cfb3-b2868b87e8fe"
      },
      "outputs": [
        {
          "output_type": "stream",
          "name": "stdout",
          "text": [
            "Requirement already satisfied: pandas in /usr/local/lib/python3.11/dist-packages (2.2.2)\n",
            "Requirement already satisfied: openpyxl in /usr/local/lib/python3.11/dist-packages (3.1.5)\n",
            "Collecting deep-translator\n",
            "  Downloading deep_translator-1.11.4-py3-none-any.whl.metadata (30 kB)\n",
            "Requirement already satisfied: numpy>=1.23.2 in /usr/local/lib/python3.11/dist-packages (from pandas) (2.0.2)\n",
            "Requirement already satisfied: python-dateutil>=2.8.2 in /usr/local/lib/python3.11/dist-packages (from pandas) (2.8.2)\n",
            "Requirement already satisfied: pytz>=2020.1 in /usr/local/lib/python3.11/dist-packages (from pandas) (2025.2)\n",
            "Requirement already satisfied: tzdata>=2022.7 in /usr/local/lib/python3.11/dist-packages (from pandas) (2025.2)\n",
            "Requirement already satisfied: et-xmlfile in /usr/local/lib/python3.11/dist-packages (from openpyxl) (2.0.0)\n",
            "Requirement already satisfied: beautifulsoup4<5.0.0,>=4.9.1 in /usr/local/lib/python3.11/dist-packages (from deep-translator) (4.13.3)\n",
            "Requirement already satisfied: requests<3.0.0,>=2.23.0 in /usr/local/lib/python3.11/dist-packages (from deep-translator) (2.32.3)\n",
            "Requirement already satisfied: soupsieve>1.2 in /usr/local/lib/python3.11/dist-packages (from beautifulsoup4<5.0.0,>=4.9.1->deep-translator) (2.6)\n",
            "Requirement already satisfied: typing-extensions>=4.0.0 in /usr/local/lib/python3.11/dist-packages (from beautifulsoup4<5.0.0,>=4.9.1->deep-translator) (4.13.0)\n",
            "Requirement already satisfied: six>=1.5 in /usr/local/lib/python3.11/dist-packages (from python-dateutil>=2.8.2->pandas) (1.17.0)\n",
            "Requirement already satisfied: charset-normalizer<4,>=2 in /usr/local/lib/python3.11/dist-packages (from requests<3.0.0,>=2.23.0->deep-translator) (3.4.1)\n",
            "Requirement already satisfied: idna<4,>=2.5 in /usr/local/lib/python3.11/dist-packages (from requests<3.0.0,>=2.23.0->deep-translator) (3.10)\n",
            "Requirement already satisfied: urllib3<3,>=1.21.1 in /usr/local/lib/python3.11/dist-packages (from requests<3.0.0,>=2.23.0->deep-translator) (2.3.0)\n",
            "Requirement already satisfied: certifi>=2017.4.17 in /usr/local/lib/python3.11/dist-packages (from requests<3.0.0,>=2.23.0->deep-translator) (2025.1.31)\n",
            "Downloading deep_translator-1.11.4-py3-none-any.whl (42 kB)\n",
            "\u001b[2K   \u001b[90m━━━━━━━━━━━━━━━━━━━━━━━━━━━━━━━━━━━━━━━━\u001b[0m \u001b[32m42.3/42.3 kB\u001b[0m \u001b[31m1.4 MB/s\u001b[0m eta \u001b[36m0:00:00\u001b[0m\n",
            "\u001b[?25hInstalling collected packages: deep-translator\n",
            "Successfully installed deep-translator-1.11.4\n"
          ]
        }
      ],
      "source": [
        "\n",
        "!pip install pandas openpyxl deep-translator\n"
      ]
    },
    {
      "cell_type": "markdown",
      "source": [
        "# **Traducción Español**"
      ],
      "metadata": {
        "id": "WpR_3jGQjXBF"
      }
    },
    {
      "cell_type": "code",
      "source": [
        "import pandas as pd\n",
        "from deep_translator import GoogleTranslator\n",
        "\n",
        "# Función para traducir texto\n",
        "def traducir_texto(texto):\n",
        "    if pd.isna(texto):  # Si la celda está vacía, devolver tal cual\n",
        "        return texto\n",
        "\n",
        "    texto = str(texto)  # Convertir a string para evitar errores con números\n",
        "\n",
        "    if texto.isdigit():  # Si el texto es solo números, no traducir\n",
        "        return texto\n",
        "\n",
        "    try:\n",
        "        return GoogleTranslator(source='en', target='es').translate(texto)\n",
        "    except Exception as e:\n",
        "        print(f\"Error al traducir '{texto}': {e}\")\n",
        "        return texto  # Si falla, devolver el texto original\n",
        "\n",
        "# Ruta del archivo de entrada y salida\n",
        "input_file = \"/content/BenchEnglish.xlsx\"\n",
        "output_file = \"/content/BenchmarkSpanish.xlsx\"\n",
        "\n",
        "# Cargar el archivo Excel\n",
        "df = pd.read_excel(input_file)\n",
        "\n",
        "# Traducir cada celda del DataFrame\n",
        "df_traducido = df.map(traducir_texto)  # Usar map() en lugar de applymap()\n",
        "\n",
        "# Guardar el archivo traducido en formato Excel\n",
        "df_traducido.to_excel(output_file, index=False, engine=\"openpyxl\")\n",
        "\n",
        "print(f\"✅ Traducción completada. Archivo guardado como {output_file}\")\n",
        "\n"
      ],
      "metadata": {
        "colab": {
          "base_uri": "https://localhost:8080/"
        },
        "id": "3QaIYsT71NF2",
        "outputId": "aec9e8d0-6f16-4423-8639-e2b4ad02460b"
      },
      "execution_count": null,
      "outputs": [
        {
          "output_type": "stream",
          "name": "stdout",
          "text": [
            "✅ Traducción completada. Archivo guardado como /content/BenchmarkSpanish.xlsx\n"
          ]
        }
      ]
    },
    {
      "cell_type": "markdown",
      "source": [
        "# **Traducción Francés**"
      ],
      "metadata": {
        "id": "pYN9rSahjokf"
      }
    },
    {
      "cell_type": "code",
      "source": [
        "\n",
        "# Función para traducir texto al francés\n",
        "def traducir_texto(texto):\n",
        "    if pd.isna(texto):  # Si la celda está vacía, devolver tal cual\n",
        "        return texto\n",
        "\n",
        "    texto = str(texto)  # Convertir a string para evitar errores con números\n",
        "\n",
        "    if texto.isdigit():  # Si el texto es solo números, no traducir\n",
        "        return texto\n",
        "\n",
        "    try:\n",
        "        return GoogleTranslator(source='en', target='fr').translate(texto)  # Traducir al francés\n",
        "    except Exception as e:\n",
        "        print(f\"Error al traducir '{texto}': {e}\")\n",
        "        return texto  # Si falla, devolver el texto original\n",
        "\n",
        "# Ruta del archivo de entrada y salida\n",
        "input_file = \"/content/BenchEnglish.xlsx\"\n",
        "output_file = \"/content/BenchmarkFrench.xlsx\"  # Archivo traducido al francés\n",
        "\n",
        "# Cargar el archivo Excel\n",
        "df = pd.read_excel(input_file)\n",
        "\n",
        "# Traducir cada celda del DataFrame\n",
        "df_traducido = df.map(traducir_texto)  # Usar map() para traducir todo el DataFrame\n",
        "\n",
        "# Guardar el archivo traducido en formato Excel\n",
        "df_traducido.to_excel(output_file, index=False, engine=\"openpyxl\")\n",
        "\n",
        "print(f\"✅ Traducción completada. Archivo guardado como {output_file}\")\n"
      ],
      "metadata": {
        "colab": {
          "base_uri": "https://localhost:8080/"
        },
        "id": "rfab0dK8rmoP",
        "outputId": "0ed06bc6-ab0b-4dc0-ac50-aa260025df02"
      },
      "execution_count": null,
      "outputs": [
        {
          "output_type": "stream",
          "name": "stdout",
          "text": [
            "✅ Traducción completada. Archivo guardado como /content/BenchmarkFrench.xlsx\n"
          ]
        }
      ]
    },
    {
      "cell_type": "markdown",
      "source": [
        "# **Traducción Alemán**"
      ],
      "metadata": {
        "id": "JQwr0WERjwLU"
      }
    },
    {
      "cell_type": "code",
      "source": [
        "# Función para traducir texto al alemán\n",
        "def traducir_texto(texto):\n",
        "    if pd.isna(texto):  # Si la celda está vacía, devolver tal cual\n",
        "        return texto\n",
        "\n",
        "    texto = str(texto)  # Convertir a string para evitar errores con números\n",
        "\n",
        "    if texto.isdigit():  # Si el texto es solo números, no traducir\n",
        "        return texto\n",
        "\n",
        "    try:\n",
        "        return GoogleTranslator(source='en', target='de').translate(texto)  # Traducir al alemán\n",
        "    except Exception as e:\n",
        "        print(f\"Error al traducir '{texto}': {e}\")\n",
        "        return texto  # Si falla, devolver el texto original\n",
        "\n",
        "# Ruta del archivo de entrada y salida\n",
        "input_file = \"/content/BenchEnglish.xlsx\"\n",
        "output_file = \"/content/BenchmarkGerman.xlsx\"  # Archivo traducido al alemán\n",
        "\n",
        "# Cargar el archivo Excel\n",
        "df = pd.read_excel(input_file)\n",
        "\n",
        "# Traducir cada celda del DataFrame\n",
        "df_traducido = df.map(traducir_texto)  # Usar map() para traducir todo el DataFrame\n",
        "\n",
        "# Guardar el archivo traducido en formato Excel\n",
        "df_traducido.to_excel(output_file, index=False, engine=\"openpyxl\")\n",
        "\n",
        "print(f\"✅ Traducción completada. Archivo guardado como {output_file}\")\n"
      ],
      "metadata": {
        "colab": {
          "base_uri": "https://localhost:8080/"
        },
        "id": "rWVvEBqxsVIv",
        "outputId": "2c34e73e-c6ec-471a-d4e8-cd1dfdf57c31"
      },
      "execution_count": null,
      "outputs": [
        {
          "output_type": "stream",
          "name": "stdout",
          "text": [
            "✅ Traducción completada. Archivo guardado como /content/BenchmarkGerman.xlsx\n"
          ]
        }
      ]
    }
  ]
}